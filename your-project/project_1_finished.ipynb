{
 "cells": [
  {
   "cell_type": "markdown",
   "metadata": {},
   "source": [
    "# Guess the number\n",
    "\n",
    "<img src=\"https://www.learningaboutelectronics.com/images/Guess-a-number-from-1-to-10.png\" width=30% allign = 'center'>\n"
   ]
  },
  {
   "cell_type": "code",
   "execution_count": null,
   "metadata": {
    "scrolled": true
   },
   "outputs": [],
   "source": [
    "#LIBRARIES\n",
    "\n",
    "import random\n",
    "import ipywidgets as widgets\n",
    "\n",
    "#RANDOM NUMBER AND USER INPUT\n",
    "\n",
    "print(\"Hello! Let's play. You have 3 chances to guess a number between 0 and 30 (inclusive). Good Luck!\" )\n",
    "number = random.randint(1,31)\n",
    "\n",
    "\n",
    "'''CREATE THE INTERACTION'''\n",
    "import ipywidgets as w\n",
    "from IPython.display import Javascript, display\n",
    "def run_all(ev):\n",
    "    display(Javascript('IPython.notebook.execute_cell_range(IPython.notebook.get_selected_index()+1, IPython.notebook.get_selected_index()+2)'))\n",
    "button = w.Button(button_style='info',description=\"Submit\")\n",
    "button.on_click(run_all)\n",
    "display(button)\n",
    "'''*****************************************'''\n",
    "\n",
    "\n",
    "'''create list string'''\n",
    "\n",
    "# lst_int = list(range(0,31))\n",
    "# print(lst_int)\n",
    "\n",
    "# lst_str=[]\n",
    "\n",
    "# for x in lst_int:\n",
    "# \tlst_str.append(str(x))\n",
    "    \n",
    "# print(lst_str)\n",
    "\n",
    "'''copy paste lst_str to option'''\n",
    "\n",
    "\n",
    "\n",
    "guess1 = widgets.Dropdown(\n",
    "         options = ['0', '1', '2', '3', '4', '5', '6', '7', '8', '9', '10', '11', '12', '13', '14', '15', '16', '17', '18', '19', '20', '21', '22', '23', '24', '25', '26', '27', '28', '29', '30'],\n",
    "         description='Number:',\n",
    "         disabled=False,\n",
    "         )\n",
    "                \n",
    "\n",
    "guess2 = widgets.Dropdown(\n",
    "         options= ['0', '1', '2', '3', '4', '5', '6', '7', '8', '9', '10', '11', '12', '13', '14', '15', '16', '17', '18', '19', '20', '21', '22', '23', '24', '25', '26', '27', '28', '29', '30'],\n",
    "         description='Number:',\n",
    "         disabled=False,\n",
    "         )              \n",
    "\n",
    "guess3 = widgets.Dropdown(\n",
    "         options= ['0', '1', '2', '3', '4', '5', '6', '7', '8', '9', '10', '11', '12', '13', '14', '15', '16', '17', '18', '19', '20', '21', '22', '23', '24', '25', '26', '27', '28', '29', '30'],\n",
    "         description='Number:',\n",
    "         disabled=False,\n",
    "         )\n",
    "              \n",
    "display(guess1)"
   ]
  },
  {
   "cell_type": "code",
   "execution_count": null,
   "metadata": {},
   "outputs": [],
   "source": [
    "efective = int(guess1.value)\n",
    "print('The selected number was ', efective)\n",
    "\n",
    "if  efective == number:\n",
    "    print('You won.')\n",
    "\n",
    "if  efective < number:\n",
    "    print('The secret number is higher, try again')\n",
    "    display(guess2)\n",
    "\n",
    "    \n",
    "if  efective > number:\n",
    "    print('The number is lower, try again')\n",
    "    display(guess2)\n",
    "    \n",
    "display(button)"
   ]
  },
  {
   "cell_type": "code",
   "execution_count": null,
   "metadata": {},
   "outputs": [],
   "source": [
    "efective1 = int(guess2.value)\n",
    "print('The selected number was ', efective1)\n",
    "\n",
    "\n",
    "if  efective1 == number:\n",
    "    print('You won.')\n",
    "\n",
    "if  efective1 < number:\n",
    "    print('The secret number is higher, try again')\n",
    "    display(guess3)\n",
    "    \n",
    "if  efective1 > number:\n",
    "    print('The secret number is lower, try again')\n",
    "    display(guess3)\n",
    "\n",
    "display(button)"
   ]
  },
  {
   "cell_type": "code",
   "execution_count": null,
   "metadata": {},
   "outputs": [],
   "source": [
    "efective2 = int(guess3.value)\n",
    "print('The selected number was ', efective2)\n",
    "    \n",
    "if  efective2 < number:\n",
    "    print('You lost, the secret number was ', number)\n",
    "           \n",
    "if  efective2 > number:\n",
    "    print('You lost, the secret number was', number)\n",
    "                \n",
    "if  efective2 == number:\n",
    "    print('You won')"
   ]
  }
 ],
 "metadata": {
  "kernelspec": {
   "display_name": "Python 3",
   "language": "python",
   "name": "python3"
  },
  "language_info": {
   "codemirror_mode": {
    "name": "ipython",
    "version": 3
   },
   "file_extension": ".py",
   "mimetype": "text/x-python",
   "name": "python",
   "nbconvert_exporter": "python",
   "pygments_lexer": "ipython3",
   "version": "3.7.6"
  }
 },
 "nbformat": 4,
 "nbformat_minor": 4
}
