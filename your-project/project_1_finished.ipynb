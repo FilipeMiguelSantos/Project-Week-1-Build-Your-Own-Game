{
 "cells": [
  {
   "cell_type": "markdown",
   "metadata": {},
   "source": [
    "# Guess the number\n",
    "\n",
    "<img src=\"https://www.learningaboutelectronics.com/images/Guess-a-number-from-1-to-10.png\" width=30% allign = 'center'>"
   ]
  },
  {
   "cell_type": "code",
   "execution_count": null,
   "metadata": {},
   "outputs": [],
   "source": [
    "#LIBRARIES\n",
    "\n",
    "import random\n",
    "import ipywidgets as widgets\n",
    "from IPython.display import Javascript, display"
   ]
  },
  {
   "cell_type": "code",
   "execution_count": null,
   "metadata": {},
   "outputs": [],
   "source": [
    "#RANDOM NUMBER AND USER INPUT\n",
    "\n",
    "print(\"Hello! Let's play. You have 3 chances to guess a number between 0 and 30 (inclusive). Good Luck!\" )\n",
    "number = random.randint(1,30)\n",
    "\n",
    "#CREATE THE INTERACTION\n",
    "\n",
    "def run_all(ev):\n",
    "    display(Javascript(\"\"\"IPython.notebook.execute_cell_range(\n",
    "                       IPython.notebook.get_selected_index()+1,\n",
    "                       IPython.notebook.get_selected_index()+2)\"\"\"))\n",
    "button = widgets.Button(button_style='info',description=\"Submit\")\n",
    "button.on_click(run_all)\n",
    "\n",
    "#CREATE DROPDOWNS\n",
    "\n",
    "guess1 = widgets.Dropdown(\n",
    "         options = range(1,31),\n",
    "         description='1st Choice:',    \n",
    "         disabled = False,\n",
    "         )\n",
    "                \n",
    "\n",
    "guess2 = widgets.Dropdown(\n",
    "         options = range(1,31),\n",
    "         description='2nd Choice:',\n",
    "         disabled = False,\n",
    "         )             \n",
    "\n",
    "guess3 = widgets.Dropdown(\n",
    "         options = range(1,31),\n",
    "         description='3rd Choice:',\n",
    "         disabled = False,\n",
    "         )\n",
    "         \n",
    "\n",
    "#ROUND RESULT\n",
    "def normal_round (value,number,guess):\n",
    "    if  value == number:\n",
    "        print('You won.')\n",
    "\n",
    "    elif  value < number:\n",
    "        print('The secret number is higher, try again')\n",
    "        display(guess)\n",
    "        display(button)\n",
    "\n",
    "    else:\n",
    "        print('The number is lower, try again')\n",
    "        display(guess)\n",
    "        display(button)\n",
    "        \n",
    "#ROUND 1\n",
    "display(guess1)\n",
    "display(button)"
   ]
  },
  {
   "cell_type": "code",
   "execution_count": null,
   "metadata": {},
   "outputs": [],
   "source": [
    "print('The selected number was ', guess1.value)\n",
    "\n",
    "#ROUND2\n",
    "normal_round(guess1.value,number,guess2)\n"
   ]
  },
  {
   "cell_type": "code",
   "execution_count": null,
   "metadata": {},
   "outputs": [],
   "source": [
    "print('The selected number was ', guess2.value)\n",
    "\n",
    "#ROUND3\n",
    "normal_round(guess2.value, number,guess3)\n"
   ]
  },
  {
   "cell_type": "code",
   "execution_count": null,
   "metadata": {},
   "outputs": [],
   "source": [
    "print('The selected number was ', guess3.value)\n",
    "\n",
    "if  guess3.value == number:\n",
    "    print('You won')\n",
    "elif  guess3.value < number:\n",
    "    print('You lost, the secret number was ', number)\n",
    "else:\n",
    "    print('You lost, the secret number was', number)\n",
    "                \n"
   ]
  }
 ],
 "metadata": {
  "kernelspec": {
   "display_name": "Python 3",
   "language": "python",
   "name": "python3"
  },
  "language_info": {
   "codemirror_mode": {
    "name": "ipython",
    "version": 3
   },
   "file_extension": ".py",
   "mimetype": "text/x-python",
   "name": "python",
   "nbconvert_exporter": "python",
   "pygments_lexer": "ipython3",
   "version": "3.7.6"
  }
 },
 "nbformat": 4,
 "nbformat_minor": 4
}
